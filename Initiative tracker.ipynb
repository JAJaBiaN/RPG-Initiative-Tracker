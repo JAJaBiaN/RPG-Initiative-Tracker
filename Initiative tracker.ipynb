{
 "cells": [
  {
   "cell_type": "code",
   "execution_count": 1,
   "metadata": {
    "collapsed": true
   },
   "outputs": [],
   "source": [
    "import numpy as np"
   ]
  },
  {
   "cell_type": "markdown",
   "metadata": {},
   "source": [
    "<h1>Set up</h1>"
   ]
  },
  {
   "cell_type": "markdown",
   "metadata": {},
   "source": [
    "Build a generic character class. Every combatant should be an instance of this class"
   ]
  },
  {
   "cell_type": "code",
   "execution_count": 2,
   "metadata": {
    "collapsed": true
   },
   "outputs": [],
   "source": [
    "class Character:\n",
    "    \"\"\"Generic class for all creatures in a battle\n",
    "    Variables:\n",
    "        name: Character name (kept capitalized)\n",
    "        initiative: the number they rolled for initiative\n",
    "        conditions: a dictionary of all conditions that are effecting the character in this battle\n",
    "            Form: {condition_name: [turns_remaining, condition_description], ...}\"\"\"\n",
    "    def __init__(self, name, initiative):\n",
    "        self.name = name.capitalize()\n",
    "        self.initiative = initiative\n",
    "        self.conditions = {}"
   ]
  },
  {
   "cell_type": "markdown",
   "metadata": {},
   "source": [
    "Set up functions that aren't commands"
   ]
  },
  {
   "cell_type": "code",
   "execution_count": 3,
   "metadata": {
    "collapsed": true
   },
   "outputs": [],
   "source": [
    "def print_status(current_character, extra_lines=1):\n",
    "    \"\"\"Print information about a character at the beginning of their turn\n",
    "    Input: current_character is the index of the character in the character list\"\"\"\n",
    "    print((\"\\n\"*extra_lines)+character_list[current_character].name.capitalize()+\"'s turn!\")\n",
    "    elapse_conditions(character_list[current_character].name)\n",
    "    conds = character_list[current_character].conditions\n",
    "    if conds:\n",
    "        print(conds)"
   ]
  },
  {
   "cell_type": "markdown",
   "metadata": {},
   "source": [
    "Set up the commands"
   ]
  },
  {
   "cell_type": "code",
   "execution_count": 4,
   "metadata": {
    "collapsed": true
   },
   "outputs": [],
   "source": [
    "def end_battle():\n",
    "    \"\"\"End the battle (by setting the while boolean to false)\"\"\"\n",
    "    global battle_happening\n",
    "    battle_happening = False\n",
    "\n",
    "def end_turn():\n",
    "    \"\"\"End the current character's turn and start the next character's turn\"\"\"\n",
    "    global round_count, current_character\n",
    "    \n",
    "    char_num = ini_order.index(current_character)\n",
    "    if char_num==len(ini_order)-1:\n",
    "        current_character = ini_order[0]\n",
    "        round_count+=1\n",
    "        print(\"\\nRound\", str(round_count)+\"!\")\n",
    "        print_status(current_character, 0)\n",
    "    else:\n",
    "        current_character = ini_order[char_num + 1]\n",
    "        print_status(current_character)\n",
    "\n",
    "def add_condition(name, condition, turns_remaining, condition_description=\"\"):\n",
    "    # Enforce some consistency\n",
    "    name = name.capitalize()\n",
    "    condition = condition.capitalize()\n",
    "    turns_remaining = int(turns_remaining)\n",
    "    condition_description = condition_description.capitalize()\n",
    "    \n",
    "    # Find the character being affected\n",
    "    for c in character_list: #characters\n",
    "        if c.name==name:\n",
    "            affected_character = c\n",
    "            break\n",
    "    else:\n",
    "        print(\"Name not recognised\")\n",
    "    \n",
    "    # Add the new condition\n",
    "    if condition in affected_character.conditions.keys():\n",
    "        # If the condition already exists\n",
    "        print(\"This character already has this condition, is that okay?\")\n",
    "        while True:\n",
    "            # Keep taking in input until the user supplies a \"Y\" or an \"N\"\n",
    "            text = input(\"Y/N: \").capitalize()\n",
    "            if text==\"N\":\n",
    "                break\n",
    "            elif text==\"Y\":\n",
    "                # Try \"<condition>1\", \"<condition>2\" etc. until an append_number is found that isn't in use\n",
    "                append_number = 1\n",
    "                while condition+str(append_number) in affected_character.conditions.keys():\n",
    "                    append_number+=1\n",
    "                new_condition = condition+str(append_number)\n",
    "\n",
    "                affected_character.conditions[new_condition] = [turns_remaining, condition_description]\n",
    "                print(\"    \"+affected_character.name, \"is even more\", condition.lower())\n",
    "                break\n",
    "    else:\n",
    "        affected_character.conditions[condition] = [turns_remaining, condition_description]\n",
    "        print(\"    \"+affected_character.name, \"is now\", condition.lower())\n",
    "\n",
    "def drop_condition(name, condition):\n",
    "    # Enforce some consistency\n",
    "    name = name.capitalize()\n",
    "    condition = condition.capitalize()\n",
    "    \n",
    "    # Find the character being affected\n",
    "    for c in character_list: #characters\n",
    "        if c.name==name:\n",
    "            affected_character = c\n",
    "            break\n",
    "    else:\n",
    "        print(\"Name not recognised\")\n",
    "    \n",
    "    # Drop the condition\n",
    "    if condition in affected_character.conditions.keys():\n",
    "        # If the condition exists\n",
    "        del affected_character.conditions[condition]\n",
    "        print(\"    \"+affected_character.name, \"is no longer\", condition.lower())\n",
    "    else:\n",
    "        print(\"    \"+affected_character.name, \"is not\", condition.lower()+\n",
    "              '. Please use \"View conditions\" to see what conditions they are affected by.')\n",
    "\n",
    "def elapse_conditions(name):\n",
    "    \"\"\"Decrease the turns_remaining variable on all condtions for a character\"\"\"\n",
    "    # Enforce some consistency\n",
    "    name = name.capitalize()\n",
    "    \n",
    "    # Find the character being affected\n",
    "    for c in character_list: #characters\n",
    "        if c.name==name:\n",
    "            affected_character = c\n",
    "            break\n",
    "    else:\n",
    "        print(\"Name not recognised\")\n",
    "    \n",
    "    # Loop through the conditions dictionary, updating turns_remaining\n",
    "    for cond, cond_vals in affected_character.conditions.copy().items():\n",
    "        affected_character.conditions[cond][0] -= 1\n",
    "        if cond_vals[0] == 0:\n",
    "            drop_condition(name, cond)\n",
    "\n",
    "def view_status(name):\n",
    "    \"\"\"Print the conditions for a given character\"\"\"\n",
    "    # Enforce some consistency\n",
    "    name = name.capitalize()\n",
    "    \n",
    "    # Find the character being affected\n",
    "    for c in character_list: #characters\n",
    "        if c.name==name:\n",
    "            conds = c.conditions\n",
    "            if conds:\n",
    "                print(conds)\n",
    "            else:\n",
    "                print(c.name, \"currently has no conditions effecting them.\")\n",
    "            break\n",
    "    else:\n",
    "        print(\"Name not recognised\")\n",
    "\n",
    "\n",
    "def add_character(name, initiative):\n",
    "    \"\"\"Add a character to the battle\n",
    "    This function will also place them into the correct position in the initiative order\"\"\"\n",
    "    global character_list, ini_order, name_order, initiatives\n",
    "    name = name.capitalize()\n",
    "    initiative = int(initiative)\n",
    "    \n",
    "    # Add the character to the battle\n",
    "    c = Character(name, initiative)\n",
    "    character_number = max(character_list) + 1\n",
    "    character_list.append(c)\n",
    "    \n",
    "    # Add the character to the initiative order\n",
    "    for i in range(len(initiatives)):\n",
    "        if initiative > initiatives[i]:\n",
    "            ini_order.insert(i, character_number)\n",
    "            name_order.insert(i, name)\n",
    "            initiatives.insert(i, initiative)\n",
    "            break\n",
    "        elif i == len(initiatives)-1:\n",
    "            ini_order.append(character_number)\n",
    "            name_order.append(name)\n",
    "            initiatives.append(initiative)\n",
    "            break\n",
    "    \n",
    "    # Check that the lists are still the same length\n",
    "    assert len(character_list)==len(ini_order)\n",
    "    assert len(character_list)==len(name_order)\n",
    "    assert len(character_list)==len(initiatives)\n",
    "    \n",
    "    print(name, \"has joined the battle!\")\n",
    "\n",
    "def drop_character(name):\n",
    "    \"\"\"Remove a character from the initiative order\"\"\"\n",
    "    global current_character, ini_order, name_order, character_list, initiatives\n",
    "    name = name.capitalize()\n",
    "    \n",
    "    # Find the character being affected\n",
    "    ini_num = name_order.index(name)\n",
    "    char_num = ini_order[ini_num]\n",
    "    \n",
    "    # Move to the next character before deleting the current one to avoid errors\n",
    "    if current_character==char_num:\n",
    "        end_turn()\n",
    "    \n",
    "    \n",
    "    # Remove the character from all relevant lists\n",
    "    del ini_order[ini_num]\n",
    "    del name_order[ini_num]\n",
    "    del character_list[char_num]\n",
    "    del initiatives[char_num]\n",
    "    \n",
    "    # The positions in character_list change when the element is deleted\n",
    "    #     the following two sections deal with that\n",
    "    if current_character > 0:\n",
    "        current_character-=1\n",
    "    \n",
    "    # Make sure that the numbers in ini_order match the positions in character_list\n",
    "    for c in range(len(ini_order)): # char_nums\n",
    "        if ini_order[c] > char_num:\n",
    "            ini_order[c]-=1\n",
    "        elif ini_order[c]==char_num:\n",
    "            raise(ValueError, \"Something has gone wrong in drop_character\")\n",
    "    \n",
    "    # Check that the lists are still the same length\n",
    "    assert len(character_list)==len(ini_order)\n",
    "    assert len(character_list)==len(name_order)\n",
    "    assert len(character_list)==len(initiatives)"
   ]
  },
  {
   "cell_type": "code",
   "execution_count": 5,
   "metadata": {
    "collapsed": true
   },
   "outputs": [],
   "source": [
    "\"\"\"Set up command list.\n",
    "Each element will be a tuple with three elements:\n",
    "    0: Command name (The text to be input)\n",
    "    1: The number of arguments to the function\n",
    "    2: The function to be called\n",
    "    3: The input parameters for the function as a tuple\"\"\"\n",
    "command_list = []\n",
    "command_list.append((\"End battle\", 0, end_battle, ()))\n",
    "command_list.append((\"End turn\", 0, end_turn, ()))\n",
    "command_list.append((\"Add condition\", 4, add_condition, (\"name, condition, turns_remaining, condition_description=''\")))\n",
    "command_list.append((\"Drop condition\", 2, drop_condition, (\"name, condition\")))\n",
    "command_list.append((\"View conditions\", 1, view_status, (\"name\")))\n",
    "command_list.append((\"View status\", 1, view_status, (\"name\")))\n",
    "command_list.append((\"Add character\", 2, add_character, (\"name, initiative\")))\n",
    "command_list.append((\"Add creature\", 2, add_character, (\"name, initiative\")))\n",
    "command_list.append((\"Drop character\", 1, drop_character, (\"name\")))\n",
    "command_list.append((\"Drop creature\", 1, drop_character, (\"name\")))\n",
    "command_list.append((\"Kill creature\", 1, drop_character, (\"name\")))\n",
    "\n",
    "\n",
    "# Turn command_list into a numpy array for easier indexing later\n",
    "command_list = np.array(command_list)"
   ]
  },
  {
   "cell_type": "markdown",
   "metadata": {},
   "source": [
    "Read in characters from .txt file"
   ]
  },
  {
   "cell_type": "code",
   "execution_count": 6,
   "metadata": {
    "collapsed": true
   },
   "outputs": [],
   "source": [
    "with open('Initiative_setup_generic.txt', 'r') as f:\n",
    "    line = f.readline()\n",
    "    character_list = []\n",
    "    while line:\n",
    "        # Read details from the file and initialise the characters\n",
    "        character_info = (line.strip('\\n')).split(', ') # Allows for unexpected columns\n",
    "        name, initiative = character_info[0], int(character_info[1])\n",
    "        character_list.append(Character(name, initiative))\n",
    "        line = f.readline()"
   ]
  },
  {
   "cell_type": "code",
   "execution_count": 7,
   "metadata": {},
   "outputs": [
    {
     "name": "stdout",
     "output_type": "stream",
     "text": [
      "Name: Arvis | Initiative: 21\n",
      "Name: Lymrith | Initiative: 11\n",
      "Name: Ran | Initiative: 14\n",
      "Name: Goblin_1 | Initiative: 12\n",
      "Name: Goblin_2 | Initiative: 12\n",
      "Name: Ogre | Initiative: 8\n"
     ]
    }
   ],
   "source": [
    "for c in character_list:\n",
    "    print('Name:', c.name, '| Initiative:', c.initiative)"
   ]
  },
  {
   "cell_type": "markdown",
   "metadata": {},
   "source": [
    "Organise other variables before runtime"
   ]
  },
  {
   "cell_type": "code",
   "execution_count": 8,
   "metadata": {},
   "outputs": [],
   "source": [
    "\"\"\"Organise initiative order\"\"\"\n",
    "ini_order = []\n",
    "name_order = []\n",
    "initiatives = []\n",
    "for c in range(len(character_list)):\n",
    "    ini = character_list[c].initiative\n",
    "    name = character_list[c].name\n",
    "    if not ini_order:\n",
    "        ini_order.append(c)\n",
    "        name_order.append(name)\n",
    "        initiatives.append(ini)\n",
    "    else:\n",
    "        for i in range(len(initiatives)):\n",
    "            if ini > initiatives[i]:\n",
    "                ini_order.insert(i, c)\n",
    "                name_order.insert(i, name)\n",
    "                initiatives.insert(i, ini)\n",
    "                break\n",
    "            elif i == len(initiatives)-1:\n",
    "                ini_order.append(c)\n",
    "                name_order.append(name)\n",
    "                initiatives.append(ini)\n",
    "                break"
   ]
  },
  {
   "cell_type": "markdown",
   "metadata": {},
   "source": [
    "<h1>Visible at run time</h1>"
   ]
  },
  {
   "cell_type": "markdown",
   "metadata": {},
   "source": [
    "Make some initial prints"
   ]
  },
  {
   "cell_type": "code",
   "execution_count": 9,
   "metadata": {},
   "outputs": [
    {
     "name": "stdout",
     "output_type": "stream",
     "text": [
      "Available commands\n",
      "  Command: \"End battle\" | Number of arguments: 0\n",
      "  Command: \"End turn\" | Number of arguments: 0\n",
      "  Command: \"Add condition\" | Number of arguments: 4 | Arguments: name, condition, turns_remaining, condition_description=''\n",
      "  Command: \"Drop condition\" | Number of arguments: 2 | Arguments: name, condition\n",
      "  Command: \"View conditions\" | Number of arguments: 1 | Arguments: name\n",
      "  Command: \"View status\" | Number of arguments: 1 | Arguments: name\n",
      "  Command: \"Add character\" | Number of arguments: 2 | Arguments: name, initiative\n",
      "  Command: \"Add creature\" | Number of arguments: 2 | Arguments: name, initiative\n",
      "  Command: \"Drop character\" | Number of arguments: 1 | Arguments: name\n",
      "  Command: \"Drop creature\" | Number of arguments: 1 | Arguments: name\n",
      "  Command: \"Kill creature\" | Number of arguments: 1 | Arguments: name\n",
      "\n",
      "Remember to separate the command and its arguments by ', '\n",
      "\n",
      "Initiative order:\n",
      "1: Arvis\n",
      "2: Ran\n",
      "3: Goblin_1\n",
      "4: Goblin_2\n",
      "5: Lymrith\n",
      "6: Ogre\n"
     ]
    }
   ],
   "source": [
    "# Print possible inputs\n",
    "print('Available commands')\n",
    "for c in command_list: #commands\n",
    "    if c[3]:\n",
    "        print('  Command:', '\"'+str(c[0])+'\"', '| Number of arguments:', (c[1]), '| Arguments:', c[3])\n",
    "    else:\n",
    "        print('  Command:', '\"'+str(c[0])+'\"', '| Number of arguments:', (c[1]))\n",
    "\n",
    "print(\"\\nRemember to separate the command and its arguments by ', '\")\n",
    "    \n",
    "# Print initiative order\n",
    "print('\\nInitiative order:')\n",
    "for n in range(len(name_order)):\n",
    "    print(str(n+1)+':', name_order[n]) # Because dragons count like FORTRAN programmers"
   ]
  },
  {
   "cell_type": "code",
   "execution_count": 10,
   "metadata": {},
   "outputs": [
    {
     "name": "stdout",
     "output_type": "stream",
     "text": [
      "Round 1!\n",
      "Arvis's turn!\n",
      "Input: end battle\n"
     ]
    }
   ],
   "source": [
    "\"\"\"Begin actually moving through turns and rounds\"\"\"\n",
    "battle_happening = True\n",
    "\n",
    "# Start off with the first character in the initiative order\n",
    "round_count = 1 # Because the dark lord Orcus has forced me to start the count from 1\n",
    "print(\"Round\", str(round_count)+\"!\")\n",
    "current_character = ini_order[0]\n",
    "print_status(current_character, 0)\n",
    "\n",
    "while battle_happening:\n",
    "    # Take input from the command line\n",
    "    text = input(\"Input: \").capitalize() # Deal with non-capitalised inputs\n",
    "    \n",
    "    # Check that there is actually a command\n",
    "    if not text:\n",
    "        continue\n",
    "    inputs = text.strip().split(', ')\n",
    "    \n",
    "    command_index = np.nonzero(command_list[:, 0]==inputs[0])[0]\n",
    "    if len(command_index)==0:\n",
    "        # Note: This is NOT an error raise\n",
    "        print(\"Command not recognised!\")\n",
    "        continue\n",
    "    else:\n",
    "        if len(inputs)==1:\n",
    "            command_list[command_index, 2][0]()\n",
    "        else:\n",
    "            try: command_list[command_index, 2][0](*inputs[1:])\n",
    "            except ValueError:\n",
    "                print(\"There was a problem with the input arguments, please try again.\")"
   ]
  }
 ],
 "metadata": {
  "kernelspec": {
   "display_name": "Python 3",
   "language": "python",
   "name": "python3"
  },
  "language_info": {
   "codemirror_mode": {
    "name": "ipython",
    "version": 3
   },
   "file_extension": ".py",
   "mimetype": "text/x-python",
   "name": "python",
   "nbconvert_exporter": "python",
   "pygments_lexer": "ipython3",
   "version": "3.6.1"
  }
 },
 "nbformat": 4,
 "nbformat_minor": 2
}
